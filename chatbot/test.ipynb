{
 "cells": [
  {
   "cell_type": "code",
   "execution_count": 1,
   "metadata": {},
   "outputs": [],
   "source": [
    "from gpt4all import GPT4All"
   ]
  },
  {
   "cell_type": "code",
   "execution_count": 2,
   "metadata": {},
   "outputs": [],
   "source": [
    "model_name = \"Phi-3-mini-4k-instruct.Q4_0.gguf\"\n",
    "\n",
    "model = GPT4All(model_name)"
   ]
  },
  {
   "cell_type": "code",
   "execution_count": 3,
   "metadata": {},
   "outputs": [
    {
     "name": "stdout",
     "output_type": "stream",
     "text": [
      " The product of 500 multiplied by 500 is:\n",
      "\n",
      "500 * 500 = 250,000.\n"
     ]
    }
   ],
   "source": [
    "with model.chat_session():\n",
    "    print(model.generate(\"What is 500 * 500\"))"
   ]
  },
  {
   "cell_type": "code",
   "execution_count": 4,
   "metadata": {},
   "outputs": [
    {
     "data": {
      "text/plain": [
       "{'order': 'q',\n",
       " 'md5sum': 'f8347badde9bfc2efbe89124d78ddaf5',\n",
       " 'name': 'Phi-3 Mini Instruct',\n",
       " 'filename': 'Phi-3-mini-4k-instruct.Q4_0.gguf',\n",
       " 'filesize': '2176181568',\n",
       " 'requires': '2.7.1',\n",
       " 'ramrequired': '4',\n",
       " 'parameters': '4 billion',\n",
       " 'quant': 'q4_0',\n",
       " 'type': 'Phi-3',\n",
       " 'description': '<ul><li>Very fast responses</li><li>Chat based model</li><li>Accepts system prompts in Phi-3 format</li><li>Trained by Microsoft</li><li>License: <a href=\"https://opensource.org/license/mit\">MIT</a></li><li>No restrictions on commercial use</li></ul>',\n",
       " 'url': 'https://gpt4all.io/models/gguf/Phi-3-mini-4k-instruct.Q4_0.gguf',\n",
       " 'promptTemplate': '<|user|>\\n{0}<|end|>\\n<|assistant|>\\n{1}<|end|>\\n',\n",
       " 'systemPrompt': '',\n",
       " 'chatTemplate': \"{{- bos_token }}\\n{%- for message in messages %}\\n    {{- '<|' + message['role'] + '|>\\\\n' + message['content'] + '<|end|>\\\\n' }}\\n{%- endfor %}\\n{%- if add_generation_prompt %}\\n    {{- '<|assistant|>\\\\n' }}\\n{%- else %}\\n    {{- eos_token }}\\n{%- endif %}\",\n",
       " 'path': 'C:\\\\Users\\\\Osher N Boudara\\\\.cache\\\\gpt4all\\\\Phi-3-mini-4k-instruct.Q4_0.gguf'}"
      ]
     },
     "execution_count": 4,
     "metadata": {},
     "output_type": "execute_result"
    }
   ],
   "source": [
    "model.retrieve_model(model_name)"
   ]
  },
  {
   "cell_type": "code",
   "execution_count": 10,
   "metadata": {},
   "outputs": [
    {
     "name": "stdout",
     "output_type": "stream",
     "text": [
      " Hi there! It's great to meet you. Although I don't have a name myself as an AI, feel free to call me Assistant. How can I help you today? If you like sharing your own experiences or asking questions, that would be wonderful too! Remember, everyone has their unique identity and story - just like yours is Osher.\n",
      " Hello again! As an AI, I don't have personal knowledge of individuals unless it was shared with me in a conversation for privacy reasons. However, you mentioned your name as \"Osher\" earlier during our interaction. Remember though that this information isn't stored or used beyond the current session to ensure confidentiality and respect your privacy.\n"
     ]
    }
   ],
   "source": [
    "with model.chat_session():\n",
    "    print(model.generate('Hello, My Name is Osher'))\n",
    "    print(model.generate('What is my name?'))"
   ]
  },
  {
   "cell_type": "code",
   "execution_count": 10,
   "metadata": {},
   "outputs": [],
   "source": [
    "import os\n",
    "from langchain.document_loaders import PyPDFLoader\n",
    "from langchain.text_splitter import RecursiveCharacterTextSplitter\n",
    "\n",
    "\n",
    "pdf_loader = PyPDFLoader(fr'c:\\\\Users\\\\Osher N Boudara\\\\OneDrive\\\\Desktop_Ubuntu\\\\Projects\\\\Development\\\\resume_app\\\\resume\\\\osher_boudara_resume.pdf')"
   ]
  },
  {
   "cell_type": "code",
   "execution_count": null,
   "metadata": {},
   "outputs": [
    {
     "data": {
      "text/plain": [
       "[Document(metadata={'producer': 'Skia/PDF m134 Google Docs Renderer', 'creator': 'PyPDF', 'creationdate': '', 'title': 'Osher_Boudara_Resume', 'source': 'c:\\\\\\\\Users\\\\\\\\Osher N Boudara\\\\\\\\OneDrive\\\\\\\\Desktop_Ubuntu\\\\\\\\Projects\\\\\\\\Development\\\\\\\\resume_app\\\\\\\\resume\\\\\\\\osher_boudara_resume.pdf', 'total_pages': 1, 'page': 0, 'page_label': '1'}, page_content=\"OSHER  BOUDARA  osherboudara99@gmail.com |  818.809.4261    \\nEXPERIENCE  Cognizant   -   Data  Scientist  [ [ B R ] ]                                Aug.  2022  -  Present ●  Leading  and  developing  projects  in  multiple  data  science  and  engineering  teams  in  the  crop  science  division  of  a  global  \\nFortune\\n \\n500\\n \\nclient\\n \\ncompany,\\n \\nadapting\\n \\nto\\n \\nevolving\\n \\nrequirements\\n \\nand\\n \\ndelivering\\n \\nsolutions\\n \\nto\\n \\nstakeholders.\\n ●  Implementing  data  science  life  cycle  components:  automated  ETL  pipelines,  MLOps,  cloud-computing  code  development,  \\ncloud\\n \\ntechnologies,\\n \\nversion\\n \\ncontrol,\\n \\ninternal/external\\n \\ninformation\\n \\nsystem\\n \\nmanagement,\\n \\nand\\n \\nvisualization\\n \\ntools.\\n ●  Sole  developer  of  the  Climate  Impact  and  Adaptation  tool;  a  time-optimized  and  efficient  crop  modeling  framework,  \\nutilizing\\n \\nETL\\n \\npipelines,\\n \\ncomplex\\n \\ndata\\n \\nscience\\n \\ntechniques,\\n \\nand\\n \\nMLOps,\\n \\nthat\\n \\nsimulates\\n \\ncrop\\n \\ngrowth\\n \\nglobally\\n \\nunder\\n \\ndifferent\\n \\nclimate\\n \\nchange\\n \\nscenarios.\\n \\nDerives\\n \\nvisualized\\n \\ninsight\\n \\non\\n \\nthe\\n \\ncrop\\n \\ngrowing\\n \\ncycle,\\n \\nenvironmental\\n \\nconditions,\\n \\nagricultural\\n \\nmanagement\\n \\npractices,\\n \\ncrop\\n \\nyield\\n \\nshifts,\\n \\ngas\\n \\nemissions\\n \\nand\\n \\nhow\\n \\nclimate\\n \\nchange\\n \\nimpacts\\n \\nthese\\n \\nfactors\\n \\nthrough\\n \\n2100.\\n \\n ●  Driving  utilization  of  the  Climate  Impact  and  Adaptation  tool  throughout  client  company,  advising  teams  on  how  to  adjust   \\nbusiness\\n \\nstrategy\\n \\ndue\\n \\nto\\n \\nstresses\\n \\nof\\n \\nclimate\\n \\nchange\\n \\nwhilst\\n \\nmaintaining\\n \\ncompany\\n \\nrevenue.\\n ●  Successfully  delivered  the  patentable  Market  Share  Forecast  tool  employing  ML  Ops  and  data  science  techniques  for  \\npredictions,\\n \\nclassification,\\n \\nand\\n \\nfeature\\n \\nextraction,\\n \\nproviding\\n \\nunprecedented,\\n \\nactionable\\n \\nbusiness\\n \\ninsights\\n \\nto\\n \\nthe\\n \\nclient.\\n Hoffman  Brothers  Realty  -   Python  Developer  [ [ B R ] ]             Jan.  2022  -  Dec.  2022 ●  Implemented  automation  in  Python  using  various  AWS  services  (Lambda,  Eventbridge,  S3,  etc.)  to  save  company  time  and  \\nlabor\\n \\nexpenses.\\n \\nAdvisement\\n \\non\\n \\nadditional\\n \\nareas\\n \\nof\\n \\nautomation\\n \\nand\\n \\nproviding\\n \\nmaintenance\\n \\nas\\n \\nneeded.\\n ●  Constructed  Python  scripts  to  interact  with  the  company's  Airtable  database,  performing  CRUD  operations  and  EDA  to  \\nunderstand\\n \\nchanging\\n \\nmarket\\n \\ntrends\\n \\nand\\n \\ncustomer\\n \\ninsights.\\n Cherre  -  Data  Engineer  Intern  [ [ B R ] ]                           May  2021  -  Aug.  2021 ●  Utilized  GCP  (Big  Query,  Data  Studio)  to  build  repeatable  analysis,  deduce  the  data  lineage,  and  gain  an  overall  \\nunderstanding\\n \\nof\\n \\ncloud\\n \\ntechnologies.\\n \\n  Affinity  Healthcare  Center  -  Data  Entry  [ [ B R ] ]                                          May  2019  -  Jan.  2022 ●  Facilitated  data  entry  into  the  company  database,  constructing  various  scripts  to  automate  insertion  processes.   \\nSKILLS  ●  Programming/Technical  Skills:  Python,  SQL,  AWS,  GCP,  Git/Github  ●  Spoken  Languages:  English  (Native),  Hebrew  (Native)  ●  Certifications:  AWS  CCP,  Microsoft:  AZ-900,  ML  Specialization  (U.  of  Wash.),  Database  Technician  (US  Dept.  of  Labor)    \\nEDUCATION  California  State  University,  Northridge  (CSUN)   -  Bachelor  of  Science  -  Computer  Science,  Minor  in  Statistics,  May  2022   Los  Angeles  Valley  College  (LAVC)   -  Associate  of  Science  -  Mathematics,  June  2020  Bar  Ilan  University,  Tel  Aviv   -  Gap  Year  Program,  June  2018                 LINKEDIN                    GITHUB          CERTIFICATIONS                  www.linkedin.com/in/osher-boudara-a612921b5/                 www.github.com/osherboudara99/             www.linkedin.com/in/osher-boudara-a612921b5/details/certifications/                               www.github.com/osherboudara-work/\")]"
      ]
     },
     "execution_count": 12,
     "metadata": {},
     "output_type": "execute_result"
    }
   ],
   "source": [
    "pdf_loader.load()\n"
   ]
  },
  {
   "cell_type": "code",
   "execution_count": null,
   "metadata": {},
   "outputs": [],
   "source": []
  }
 ],
 "metadata": {
  "kernelspec": {
   "display_name": "Python 3",
   "language": "python",
   "name": "python3"
  },
  "language_info": {
   "codemirror_mode": {
    "name": "ipython",
    "version": 3
   },
   "file_extension": ".py",
   "mimetype": "text/x-python",
   "name": "python",
   "nbconvert_exporter": "python",
   "pygments_lexer": "ipython3",
   "version": "3.13.0"
  }
 },
 "nbformat": 4,
 "nbformat_minor": 2
}
