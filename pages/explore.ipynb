{
 "cells": [
  {
   "cell_type": "code",
   "execution_count": 40,
   "id": "ea51cf8b",
   "metadata": {},
   "outputs": [
    {
     "name": "stdout",
     "output_type": "stream",
     "text": [
      "[{'name': 'resume_app', 'html_url': 'https://github.com/osherboudara99/resume_app', 'description': None, 'language': 'Jupyter Notebook', 'stargazers_count': 0, 'forks_count': 0, 'updated_at': '2025-05-22T20:20:58Z'}, {'name': 'Python_Data_Structures_Algorithms_Ref', 'html_url': 'https://github.com/osherboudara99/Python_Data_Structures_Algorithms_Ref', 'description': None, 'language': 'Jupyter Notebook', 'stargazers_count': 0, 'forks_count': 0, 'updated_at': '2025-05-22T19:03:03Z'}, {'name': 'ai-hedge-fund', 'html_url': 'https://github.com/osherboudara99/ai-hedge-fund', 'description': 'An AI Hedge Fund Team', 'language': 'Python', 'stargazers_count': 0, 'forks_count': 0, 'updated_at': '2025-05-17T16:49:09Z'}, {'name': 'NeuralNetwork_CollegeAdmissions', 'html_url': 'https://github.com/osherboudara99/NeuralNetwork_CollegeAdmissions', 'description': 'This is a neural network that I built in Python for a class of mine. Accompanied by slideshow presentation.', 'language': 'Jupyter Notebook', 'stargazers_count': 0, 'forks_count': 0, 'updated_at': '2025-04-21T20:54:24Z'}, {'name': 'streamlit_reference', 'html_url': 'https://github.com/osherboudara99/streamlit_reference', 'description': None, 'language': 'Python', 'stargazers_count': 0, 'forks_count': 0, 'updated_at': '2025-02-10T19:17:14Z'}, {'name': 'Spotify_Project', 'html_url': 'https://github.com/osherboudara99/Spotify_Project', 'description': None, 'language': 'Jupyter Notebook', 'stargazers_count': 0, 'forks_count': 0, 'updated_at': '2025-02-10T16:19:31Z'}, {'name': 'NFL_Stats_Project', 'html_url': 'https://github.com/osherboudara99/NFL_Stats_Project', 'description': None, 'language': 'Jupyter Notebook', 'stargazers_count': 0, 'forks_count': 0, 'updated_at': '2025-02-10T16:18:27Z'}, {'name': 'Data_Structures_Project', 'html_url': 'https://github.com/osherboudara99/Data_Structures_Project', 'description': None, 'language': 'Python', 'stargazers_count': 0, 'forks_count': 0, 'updated_at': '2025-01-30T01:43:05Z'}, {'name': 'SongPopularityComparison', 'html_url': 'https://github.com/osherboudara99/SongPopularityComparison', 'description': 'Capstone completed as part of Data Engineer training at my work.', 'language': 'Jupyter Notebook', 'stargazers_count': 0, 'forks_count': 0, 'updated_at': '2024-11-12T21:27:11Z'}, {'name': 'certified-aws-solutions-architect-professional', 'html_url': 'https://github.com/osherboudara99/certified-aws-solutions-architect-professional', 'description': 'AWS Certified Solutions Architect – Professional (SAP-C02) Notes', 'language': None, 'stargazers_count': 0, 'forks_count': 0, 'updated_at': '2024-11-04T01:13:34Z'}, {'name': 'RoommateFinderApp', 'html_url': 'https://github.com/osherboudara99/RoommateFinderApp', 'description': None, 'language': 'JavaScript', 'stargazers_count': 0, 'forks_count': 5, 'updated_at': '2022-05-11T20:00:38Z'}, {'name': 'OS_Tasks_Simulations', 'html_url': 'https://github.com/osherboudara99/OS_Tasks_Simulations', 'description': 'In this repository, I implemented various different tasks accomplished by the operating system. This was done for an Operating Systems course. Such tasks that are simulated are the process control block parent-child relationship and batch process scheduling.', 'language': 'C', 'stargazers_count': 0, 'forks_count': 0, 'updated_at': '2022-02-26T22:44:16Z'}, {'name': 'Data_Visualization_Using_Matplotlib', 'html_url': 'https://github.com/osherboudara99/Data_Visualization_Using_Matplotlib', 'description': 'Visualize your data using matplotlib and pandas python libraries. This Jupyter Notebook that I created contains the main functions within both libraries that allow us to visualize data. Hope this is useful!', 'language': 'Jupyter Notebook', 'stargazers_count': 0, 'forks_count': 0, 'updated_at': '2022-02-26T22:42:51Z'}, {'name': 'MLAssignments', 'html_url': 'https://github.com/osherboudara99/MLAssignments', 'description': 'Machine Learning implementations from specialization course series taken at U. of Wash. through Coursera.', 'language': 'Jupyter Notebook', 'stargazers_count': 0, 'forks_count': 0, 'updated_at': '2022-02-26T22:42:15Z'}, {'name': 'Graph-Algorithms', 'html_url': 'https://github.com/osherboudara99/Graph-Algorithms', 'description': 'In this project, we implemented various data structures and their traversals in Python. We used the NetworkX library for visualizations of their graphs and traversals.', 'language': 'Jupyter Notebook', 'stargazers_count': 0, 'forks_count': 0, 'updated_at': '2022-02-26T22:41:12Z'}, {'name': 'qwik-closet', 'html_url': 'https://github.com/osherboudara99/qwik-closet', 'description': 'A closet app idea based off the one in the movie Clueless. It is an Android Studio application in which we used Java and MySQL.', 'language': None, 'stargazers_count': 0, 'forks_count': 0, 'updated_at': '2022-02-26T22:38:49Z'}, {'name': 'Web-App-using-PHP-and-MySQL', 'html_url': 'https://github.com/osherboudara99/Web-App-using-PHP-and-MySQL', 'description': 'This is a web application built for a database design course. The purpose of this web application was to use SQL CRUD operations to interact with the web app. Languages used are HTML, PHP, CSS, JavaScript and MySQL. We used XAMPP for our web server.', 'language': 'PHP', 'stargazers_count': 0, 'forks_count': 1, 'updated_at': '2022-02-26T22:36:22Z'}, {'name': 'Loan_Predictions_Algorithm_Comparison', 'html_url': 'https://github.com/osherboudara99/Loan_Predictions_Algorithm_Comparison', 'description': 'In this project, we compared various machine learning algorithms to assess which algorithm performed best on a loan default data set.', 'language': 'Jupyter Notebook', 'stargazers_count': 0, 'forks_count': 1, 'updated_at': '2022-02-26T22:32:37Z'}, {'name': 'JC-Plus', 'html_url': 'https://github.com/osherboudara99/JC-Plus', 'description': 'Programming language that will work on adding features to C as the target language', 'language': None, 'stargazers_count': 0, 'forks_count': 0, 'updated_at': '2022-02-25T22:29:55Z'}, {'name': 'ImageScraper', 'html_url': 'https://github.com/osherboudara99/ImageScraper', 'description': 'Scrape images off the internet with this code! Written in Python, this code scrapes user-searched images from the Bing search engine.  ', 'language': 'Python', 'stargazers_count': 0, 'forks_count': 0, 'updated_at': '2020-12-11T06:12:08Z'}, {'name': 'BasicDataStructures', 'html_url': 'https://github.com/osherboudara99/BasicDataStructures', 'description': 'This is a compilation of different Data Structures written in C++ code that I had to do for my first data structures course. The data structures created are Linked List, Stacks, Queues and Binary Trees. Feel free to use this study how each structure is built in code.', 'language': 'C++', 'stargazers_count': 0, 'forks_count': 0, 'updated_at': '2020-11-24T00:20:54Z'}]\n"
     ]
    }
   ],
   "source": [
    "import requests\n",
    "\n",
    "GITHUB_USERNAME = \"osherboudara99\"\n",
    "\n",
    "def get_sorted_repos_by_update(username, token=None):\n",
    "    url = f\"https://api.github.com/users/{username}/repos?per_page=100\"\n",
    "    headers = {\"Authorization\": f\"token {token}\"} if token else {}\n",
    "    \n",
    "    response = requests.get(url, headers=headers)\n",
    "    if response.status_code != 200:\n",
    "        print(f\"Failed to fetch repos: {response.status_code}\")\n",
    "        return []\n",
    "\n",
    "    repos = response.json()\n",
    "    \n",
    "    # Sort repos by 'updated_at' (latest first)\n",
    "    sorted_repos = sorted(repos, key=lambda r: r['updated_at'], reverse=True)\n",
    "\n",
    "    # Optional: extract useful info for each repo\n",
    "    formatted_repos = []\n",
    "    for repo in sorted_repos:\n",
    "        formatted_repos.append({\n",
    "            \"name\": repo[\"name\"],\n",
    "            \"html_url\": repo[\"html_url\"],\n",
    "            \"description\": repo[\"description\"],\n",
    "            \"language\": repo[\"language\"],\n",
    "            \"stargazers_count\": repo[\"stargazers_count\"],\n",
    "            \"forks_count\": repo[\"forks_count\"],\n",
    "            \"updated_at\": repo[\"updated_at\"]\n",
    "        })\n",
    "\n",
    "    return formatted_repos\n",
    "\n",
    "# def display_repos(repos):\n",
    "#     for repo in repos:\n",
    "#         with st.container():\n",
    "#             st.markdown(f\"### [{repo['name']}]({repo['html_url']})\")\n",
    "#             st.markdown(f\"**Description:** {repo['description'] or 'No description'}\")\n",
    "#             st.markdown(f\"⭐ Stars: {repo['stargazers_count']} | 🍴 Forks: {repo['forks_count']}\")\n",
    "#             st.markdown(\"---\")\n",
    "\n",
    "repos = get_sorted_repos_by_update(GITHUB_USERNAME)\n",
    "\n",
    "print(repos)\n",
    "# display_repos(repos)"
   ]
  },
  {
   "cell_type": "code",
   "execution_count": 36,
   "id": "c9af201d",
   "metadata": {},
   "outputs": [
    {
     "data": {
      "text/plain": [
       "[]"
      ]
     },
     "execution_count": 36,
     "metadata": {},
     "output_type": "execute_result"
    }
   ],
   "source": [
    "repos[0]['topics']"
   ]
  },
  {
   "cell_type": "code",
   "execution_count": 19,
   "id": "a2f869a4",
   "metadata": {},
   "outputs": [
    {
     "data": {
      "text/plain": [
       "'https://api.github.com/repos/osherboudara99/ai-hedge-fund/commits{/sha}'"
      ]
     },
     "execution_count": 19,
     "metadata": {},
     "output_type": "execute_result"
    }
   ],
   "source": [
    "repos[0]['commits_url']"
   ]
  },
  {
   "cell_type": "code",
   "execution_count": 38,
   "id": "2373ec99",
   "metadata": {},
   "outputs": [],
   "source": [
    "languages = {}\n",
    "for repo in repos:\n",
    "    languages[repo['name']] = fetch_languages(GITHUB_USERNAME, repo['name'])"
   ]
  },
  {
   "cell_type": "code",
   "execution_count": 39,
   "id": "414503dc",
   "metadata": {},
   "outputs": [
    {
     "data": {
      "text/plain": [
       "{'ai-hedge-fund': {'Python': 402296,\n",
       "  'TypeScript': 125639,\n",
       "  'Batchfile': 9842,\n",
       "  'Shell': 9435,\n",
       "  'CSS': 5294,\n",
       "  'JavaScript': 593,\n",
       "  'Dockerfile': 458,\n",
       "  'HTML': 326},\n",
       " 'BasicDataStructures': {'C++': 24194},\n",
       " 'certified-aws-solutions-architect-professional': {},\n",
       " 'Data_Structures_Project': {'Python': 16817},\n",
       " 'Data_Visualization_Using_Matplotlib': {'Jupyter Notebook': 242620},\n",
       " 'Graph-Algorithms': {'Jupyter Notebook': 691385, 'Python': 4477},\n",
       " 'ImageScraper': {'Python': 2535},\n",
       " 'JC-Plus': {'Java': 248212},\n",
       " 'Loan_Predictions_Algorithm_Comparison': {'Jupyter Notebook': 389048},\n",
       " 'MLAssignments': {'Jupyter Notebook': 17607042, 'Python': 13048},\n",
       " 'NeuralNetwork_CollegeAdmissions': {'Jupyter Notebook': 80968},\n",
       " 'NFL_Stats_Project': {'Jupyter Notebook': 798113, 'Python': 2625},\n",
       " 'OS_Tasks_Simulations': {'C': 39152},\n",
       " 'Python_Data_Structures_Algorithms_Ref': {'Jupyter Notebook': 1071023},\n",
       " 'qwik-closet': {'Java': 87811},\n",
       " 'resume_app': {'Jupyter Notebook': 36161, 'Python': 27207, 'CSS': 2408},\n",
       " 'RoommateFinderApp': {'JavaScript': 1573614, 'Python': 37045, 'CSS': 27},\n",
       " 'SongPopularityComparison': {'Jupyter Notebook': 252461},\n",
       " 'Spotify_Project': {'Jupyter Notebook': 77809},\n",
       " 'streamlit_reference': {'Python': 7036},\n",
       " 'Web-App-using-PHP-and-MySQL': {'PHP': 51063,\n",
       "  'Hack': 37234,\n",
       "  'JavaScript': 8406,\n",
       "  'CSS': 2722}}"
      ]
     },
     "execution_count": 39,
     "metadata": {},
     "output_type": "execute_result"
    }
   ],
   "source": [
    "languages"
   ]
  },
  {
   "cell_type": "code",
   "execution_count": 20,
   "id": "8f403da9",
   "metadata": {},
   "outputs": [],
   "source": [
    "commits = {} \n",
    "\n",
    "for repo in repos:\n",
    "    commits[repo['name']] = fetch_github_commits(GITHUB_USERNAME, repo['name'])"
   ]
  },
  {
   "cell_type": "code",
   "execution_count": 32,
   "id": "3bf097fb",
   "metadata": {},
   "outputs": [
    {
     "data": {
      "text/plain": [
       "dict_keys(['sha', 'node_id', 'commit', 'url', 'html_url', 'comments_url', 'author', 'committer', 'parents'])"
      ]
     },
     "execution_count": 32,
     "metadata": {},
     "output_type": "execute_result"
    }
   ],
   "source": [
    "commits['ai-hedge-fund'][0].keys()"
   ]
  },
  {
   "cell_type": "code",
   "execution_count": null,
   "id": "4c36761a",
   "metadata": {},
   "outputs": [],
   "source": []
  }
 ],
 "metadata": {
  "kernelspec": {
   "display_name": "Python 3",
   "language": "python",
   "name": "python3"
  },
  "language_info": {
   "codemirror_mode": {
    "name": "ipython",
    "version": 3
   },
   "file_extension": ".py",
   "mimetype": "text/x-python",
   "name": "python",
   "nbconvert_exporter": "python",
   "pygments_lexer": "ipython3",
   "version": "3.13.0"
  }
 },
 "nbformat": 4,
 "nbformat_minor": 5
}
